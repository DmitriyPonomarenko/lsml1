{
 "cells": [
  {
   "cell_type": "code",
   "execution_count": 1,
   "id": "4a8babb3-d15a-4b3a-b0f5-f433c5e72530",
   "metadata": {
    "tags": []
   },
   "outputs": [
    {
     "name": "stderr",
     "output_type": "stream",
     "text": [
      "Setting default log level to \"WARN\".\n",
      "To adjust logging level use sc.setLogLevel(newLevel). For SparkR, use setLogLevel(newLevel).\n",
      "2023-10-09 02:30:29,444 WARN yarn.Client: Neither spark.yarn.jars nor spark.yarn.archive is set, falling back to uploading libraries under SPARK_HOME.\n"
     ]
    }
   ],
   "source": [
    "import findspark\n",
    "findspark.init()\n",
    "\n",
    "import pyspark\n",
    "sc = pyspark.SparkContext(appName=\"jupyter\")\n",
    "\n",
    "from pyspark.sql import SparkSession\n",
    "se = SparkSession(sc)"
   ]
  },
  {
   "cell_type": "code",
   "execution_count": 2,
   "id": "419a0eb4-d010-46e2-8aae-118e931000fe",
   "metadata": {
    "tags": []
   },
   "outputs": [
    {
     "name": "stdout",
     "output_type": "stream",
     "text": [
      "copyFromLocal: `clickstream.csv': File exists\n"
     ]
    }
   ],
   "source": [
    "! hadoop fs -copyFromLocal clickstream.csv"
   ]
  },
  {
   "cell_type": "code",
   "execution_count": 3,
   "id": "a30d575a-eab7-4dbc-ae07-3a13090ebe5b",
   "metadata": {
    "tags": []
   },
   "outputs": [
    {
     "name": "stderr",
     "output_type": "stream",
     "text": [
      "                                                                                \r"
     ]
    }
   ],
   "source": [
    "# register table\n",
    "\n",
    "clickstream = se.read.option(\"header\", True).option(\"delimiter\", \"\\t\").csv(\"clickstream.csv\")\n",
    "clickstream.registerTempTable(\"clickstream\")"
   ]
  },
  {
   "cell_type": "code",
   "execution_count": 4,
   "id": "962ee606-eb83-418b-a83e-142b9a1b96b5",
   "metadata": {
    "tags": []
   },
   "outputs": [
    {
     "name": "stderr",
     "output_type": "stream",
     "text": [
      "                                                                                \r"
     ]
    },
    {
     "name": "stdout",
     "output_type": "stream",
     "text": [
      "+--------------------+----+\n",
      "|               route| cnt|\n",
      "+--------------------+----+\n",
      "|                main|8184|\n",
      "|        main-archive|1113|\n",
      "|         main-rabota|1047|\n",
      "|       main-internet| 897|\n",
      "|          main-bonus| 870|\n",
      "|           main-news| 769|\n",
      "|        main-tariffs| 677|\n",
      "|         main-online| 587|\n",
      "|          main-vklad| 518|\n",
      "| main-rabota-archive| 170|\n",
      "| main-archive-rabota| 167|\n",
      "|  main-bonus-archive| 143|\n",
      "|   main-rabota-bonus| 139|\n",
      "|   main-bonus-rabota| 135|\n",
      "|    main-news-rabota| 135|\n",
      "|main-archive-inte...| 132|\n",
      "|    main-rabota-news| 130|\n",
      "|main-internet-rabota| 129|\n",
      "|   main-archive-news| 126|\n",
      "|main-rabota-internet| 124|\n",
      "|main-internet-arc...| 123|\n",
      "|  main-archive-bonus| 117|\n",
      "| main-internet-bonus| 115|\n",
      "|main-tariffs-inte...| 114|\n",
      "|   main-news-archive| 113|\n",
      "|  main-news-internet| 109|\n",
      "|main-archive-tariffs| 104|\n",
      "|  main-internet-news| 103|\n",
      "|main-tariffs-archive| 103|\n",
      "|    main-rabota-main|  94|\n",
      "+--------------------+----+\n",
      "\n"
     ]
    },
    {
     "name": "stderr",
     "output_type": "stream",
     "text": [
      "                                                                                \r"
     ]
    }
   ],
   "source": [
    "# sql query\n",
    "\n",
    "result = se.sql('''\n",
    "select route, count(route) as cnt from\n",
    "    (select user_id, session_id, concat_ws(\"-\", collect_list(event_page)) as route from\n",
    "        (select pages.user_id, pages.session_id, event_page, lag(event_page) over (partition by pages.user_id, pages.session_id order by timestamp) as prev_page from\n",
    "            (select user_id, session_id, event_page, timestamp from clickstream\n",
    "            where event_type = 'page'\n",
    "            distribute by user_id, session_id) pages\n",
    "        left join\n",
    "            (select user_id, session_id, min(timestamp) as firsttimeerror from clickstream\n",
    "            where event_type like '%error%'\n",
    "            group by user_id, session_id\n",
    "            distribute by user_id, session_id) errors\n",
    "        on pages.user_id = errors.user_id and pages.session_id = errors.session_id\n",
    "        where firsttimeerror is null or timestamp < firsttimeerror\n",
    "        order by user_id, session_id, timestamp)\n",
    "    where event_page != prev_page or prev_page is null\n",
    "    group by user_id, session_id\n",
    "    distribute by user_id, session_id)\n",
    "group by route\n",
    "order by cnt desc\n",
    "limit 30''')\n",
    "result.show(30)\n",
    "result.toPandas().to_csv('sql_output.csv', header=False, index=False, sep='\\t')"
   ]
  },
  {
   "cell_type": "code",
   "execution_count": 5,
   "id": "04166a0a-9f93-49f1-8279-b6a92bf3f3f0",
   "metadata": {
    "tags": []
   },
   "outputs": [],
   "source": [
    "sc.stop()"
   ]
  }
 ],
 "metadata": {
  "kernelspec": {
   "display_name": "Python 3 (ipykernel)",
   "language": "python",
   "name": "python3"
  },
  "language_info": {
   "codemirror_mode": {
    "name": "ipython",
    "version": 3
   },
   "file_extension": ".py",
   "mimetype": "text/x-python",
   "name": "python",
   "nbconvert_exporter": "python",
   "pygments_lexer": "ipython3",
   "version": "3.9.13"
  }
 },
 "nbformat": 4,
 "nbformat_minor": 5
}
