{
 "cells": [
  {
   "cell_type": "code",
   "execution_count": 1,
   "metadata": {
    "tags": []
   },
   "outputs": [
    {
     "name": "stderr",
     "output_type": "stream",
     "text": [
      "Setting default log level to \"WARN\".\n",
      "To adjust logging level use sc.setLogLevel(newLevel). For SparkR, use setLogLevel(newLevel).\n",
      "2023-10-10 19:52:11,258 WARN yarn.Client: Neither spark.yarn.jars nor spark.yarn.archive is set, falling back to uploading libraries under SPARK_HOME.\n"
     ]
    }
   ],
   "source": [
    "import findspark\n",
    "findspark.init()\n",
    "\n",
    "import pyspark\n",
    "sc = pyspark.SparkContext(appName='jupyter')\n",
    "\n",
    "from itertools import islice\n",
    "from typing import List, Tuple"
   ]
  },
  {
   "cell_type": "code",
   "execution_count": 2,
   "metadata": {
    "tags": []
   },
   "outputs": [
    {
     "name": "stdout",
     "output_type": "stream",
     "text": [
      "copyFromLocal: `clickstream.csv': File exists\n"
     ]
    }
   ],
   "source": [
    "! hadoop fs -copyFromLocal clickstream.csv"
   ]
  },
  {
   "cell_type": "code",
   "execution_count": 3,
   "metadata": {
    "tags": []
   },
   "outputs": [
    {
     "name": "stderr",
     "output_type": "stream",
     "text": [
      "                                                                                \r"
     ]
    },
    {
     "data": {
      "text/plain": [
       "[('562-507', ('page', 'main', '1695584127')),\n",
       " ('562-507', ('event', 'main', '1695584134')),\n",
       " ('562-507', ('event', 'main', '1695584144')),\n",
       " ('562-507', ('event', 'main', '1695584147')),\n",
       " ('562-507', ('wNaxLlerrorU', 'main', '1695584154'))]"
      ]
     },
     "execution_count": 3,
     "metadata": {},
     "output_type": "execute_result"
    }
   ],
   "source": [
    "# make an initial rdd from csv\n",
    "\n",
    "csv_rdd = sc.textFile('clickstream.csv').mapPartitionsWithIndex(lambda idx, it: islice(it, 1, None) if idx == 0 else it)\n",
    "table_rdd = csv_rdd.map(lambda l: l.split('\\t')).map(lambda x: (x[0] + '-' + x[1], (x[2], x[3], x[4])))\n",
    "table_rdd.take(5)"
   ]
  },
  {
   "cell_type": "code",
   "execution_count": 4,
   "metadata": {
    "tags": []
   },
   "outputs": [
    {
     "name": "stderr",
     "output_type": "stream",
     "text": [
      "                                                                                \r"
     ]
    },
    {
     "data": {
      "text/plain": [
       "[('3122-116', '1695592355'),\n",
       " ('455-220', '1695614507'),\n",
       " ('3916-644', '1695614983'),\n",
       " ('4908-135', '1695628535'),\n",
       " ('2976-922', '1695631611')]"
      ]
     },
     "execution_count": 4,
     "metadata": {},
     "output_type": "execute_result"
    }
   ],
   "source": [
    "# time of first error for each session\n",
    "\n",
    "error_rdd = table_rdd.filter(lambda x: 'error' in x[1][0]).map(lambda x: (x[0], (x[1][2]))).reduceByKey(lambda a, b: a if a < b else b)\n",
    "error_rdd.take(5)"
   ]
  },
  {
   "cell_type": "code",
   "execution_count": 5,
   "metadata": {
    "tags": []
   },
   "outputs": [
    {
     "name": "stderr",
     "output_type": "stream",
     "text": [
      "                                                                                \r"
     ]
    },
    {
     "data": {
      "text/plain": [
       "[('1409-29', (('page', 'main', '1697373595'), '1697378675')),\n",
       " ('1409-29', (('page', 'vklad', '1697374001'), '1697378675')),\n",
       " ('1409-29', (('page', 'news', '1697375826'), '1697378675')),\n",
       " ('1409-29', (('page', 'rabota', '1697376818'), '1697378675')),\n",
       " ('1409-29', (('page', 'main', '1698205762'), '1697378675')),\n",
       " ('1409-29', (('page', 'rabota', '1698207334'), '1697378675')),\n",
       " ('1409-29', (('page', 'internet', '1698207499'), '1697378675')),\n",
       " ('1409-29', (('page', 'bonus', '1698208287'), '1697378675')),\n",
       " ('1409-29', (('page', 'rabota', '1698208483'), '1697378675')),\n",
       " ('1409-29', (('page', 'bonus', '1698209278'), '1697378675'))]"
      ]
     },
     "execution_count": 5,
     "metadata": {},
     "output_type": "execute_result"
    }
   ],
   "source": [
    "# connecting pages and first error\n",
    "\n",
    "left_joined_rdd = table_rdd.filter(lambda x: x[1][0] == 'page').leftOuterJoin(error_rdd)\n",
    "left_joined_rdd.take(10)"
   ]
  },
  {
   "cell_type": "code",
   "execution_count": 6,
   "metadata": {
    "tags": []
   },
   "outputs": [
    {
     "data": {
      "text/plain": [
       "[('833-954', ('main', '1695584670')),\n",
       " ('833-954', ('bonus', '1695584688')),\n",
       " ('833-954', ('main', '1695584695')),\n",
       " ('150-322', ('main', '1695584850')),\n",
       " ('4746-892', ('main', '1695591194'))]"
      ]
     },
     "execution_count": 6,
     "metadata": {},
     "output_type": "execute_result"
    }
   ],
   "source": [
    "# page clipping after first error\n",
    "\n",
    "faultless_rdd = left_joined_rdd.filter(lambda x: x[1][1] is None or x[1][0][2] < x[1][1]).map(lambda x: (x[0], (x[1][0][1], x[1][0][2])))\n",
    "faultless_rdd.take(5)"
   ]
  },
  {
   "cell_type": "code",
   "execution_count": 7,
   "metadata": {
    "tags": []
   },
   "outputs": [
    {
     "name": "stderr",
     "output_type": "stream",
     "text": [
      "                                                                                \r"
     ]
    },
    {
     "data": {
      "text/plain": [
       "[('1409-29',\n",
       "  [('main', '1697373595'),\n",
       "   ('vklad', '1697374001'),\n",
       "   ('news', '1697375826'),\n",
       "   ('rabota', '1697376818')]),\n",
       " ('1998-988', [('main', '1698201714')]),\n",
       " ('2671-557',\n",
       "  [('main', '1698234623'),\n",
       "   ('internet', '1698234757'),\n",
       "   ('news', '1698235491'),\n",
       "   ('vklad', '1698235604'),\n",
       "   ('archive', '1698236236')]),\n",
       " ('716-290', [('main', '1698176129'), ('main', '1698242389')]),\n",
       " ('3374-716',\n",
       "  [('main', '1698232677'),\n",
       "   ('tariffs', '1698233674'),\n",
       "   ('vklad', '1698234593'),\n",
       "   ('news', '1698235149'),\n",
       "   ('rabota', '1698242103'),\n",
       "   ('online', '1698242203'),\n",
       "   ('rabota', '1698245982')])]"
      ]
     },
     "execution_count": 7,
     "metadata": {},
     "output_type": "execute_result"
    }
   ],
   "source": [
    "# sorting pages by time of visit\n",
    "\n",
    "sorted_rdd = faultless_rdd.groupByKey().mapValues(lambda values: sorted(values, key=lambda x: x[1]))\n",
    "sorted_rdd.take(5)"
   ]
  },
  {
   "cell_type": "code",
   "execution_count": 8,
   "metadata": {
    "tags": []
   },
   "outputs": [],
   "source": [
    "def make_route(pages: List[Tuple[str, str]]) -> str:\n",
    "    '''Generates a path without consecutive repetitions of the same page\n",
    "    \n",
    "    Example:\n",
    "    \n",
    "    Transforms: [('main', '1695614475'), ('archive', '1695614499')]\n",
    "    Returns: 'main-archive'\n",
    "    '''\n",
    "    filtered_pages = []\n",
    "    for page in pages:\n",
    "        if not filtered_pages or page[0] != filtered_pages[-1]:\n",
    "            filtered_pages.append(page[0])\n",
    "    return '-'.join(filtered_pages)"
   ]
  },
  {
   "cell_type": "code",
   "execution_count": 9,
   "metadata": {
    "tags": []
   },
   "outputs": [
    {
     "data": {
      "text/plain": [
       "['main-vklad-news-rabota',\n",
       " 'main',\n",
       " 'main-internet-news-vklad-archive',\n",
       " 'main',\n",
       " 'main-tariffs-vklad-news-rabota-online-rabota']"
      ]
     },
     "execution_count": 9,
     "metadata": {},
     "output_type": "execute_result"
    }
   ],
   "source": [
    "# generating a route string from a list of pages, removing repetitions\n",
    "\n",
    "route_rdd = sorted_rdd.map(lambda x: make_route(x[1]))\n",
    "route_rdd.take(5)"
   ]
  },
  {
   "cell_type": "code",
   "execution_count": 10,
   "metadata": {
    "tags": []
   },
   "outputs": [
    {
     "name": "stderr",
     "output_type": "stream",
     "text": [
      "                                                                                \r"
     ]
    },
    {
     "data": {
      "text/plain": [
       "[('main', 8184),\n",
       " ('main-archive', 1113),\n",
       " ('main-rabota', 1047),\n",
       " ('main-internet', 897),\n",
       " ('main-bonus', 870),\n",
       " ('main-news', 769),\n",
       " ('main-tariffs', 677),\n",
       " ('main-online', 587),\n",
       " ('main-vklad', 518),\n",
       " ('main-rabota-archive', 170),\n",
       " ('main-archive-rabota', 167),\n",
       " ('main-bonus-archive', 143),\n",
       " ('main-rabota-bonus', 139),\n",
       " ('main-bonus-rabota', 135),\n",
       " ('main-news-rabota', 135),\n",
       " ('main-archive-internet', 132),\n",
       " ('main-rabota-news', 130),\n",
       " ('main-internet-rabota', 129),\n",
       " ('main-archive-news', 126),\n",
       " ('main-rabota-internet', 124),\n",
       " ('main-internet-archive', 123),\n",
       " ('main-archive-bonus', 117),\n",
       " ('main-internet-bonus', 115),\n",
       " ('main-tariffs-internet', 114),\n",
       " ('main-news-archive', 113),\n",
       " ('main-news-internet', 109),\n",
       " ('main-archive-tariffs', 104),\n",
       " ('main-internet-news', 103),\n",
       " ('main-tariffs-archive', 103),\n",
       " ('main-rabota-main', 94)]"
      ]
     },
     "execution_count": 10,
     "metadata": {},
     "output_type": "execute_result"
    }
   ],
   "source": [
    "# counting the number of routes\n",
    "\n",
    "sum_rdd = route_rdd.map(lambda x: (x, 1)).reduceByKey(lambda a, b: a + b).sortBy(lambda x: x[1], ascending=False).take(30)\n",
    "sum_rdd"
   ]
  },
  {
   "cell_type": "code",
   "execution_count": 11,
   "metadata": {
    "tags": []
   },
   "outputs": [],
   "source": [
    "# write to file\n",
    "\n",
    "with open('rrd_output.csv', 'w') as f:\n",
    "    for tuple in sum_rdd:\n",
    "        print(f\"{tuple[0]}\\t{tuple[1]}\", file=f)"
   ]
  },
  {
   "cell_type": "code",
   "execution_count": 12,
   "metadata": {
    "tags": []
   },
   "outputs": [],
   "source": [
    "sc.stop()"
   ]
  }
 ],
 "metadata": {
  "kernelspec": {
   "display_name": "Python 3 (ipykernel)",
   "language": "python",
   "name": "python3"
  },
  "language_info": {
   "codemirror_mode": {
    "name": "ipython",
    "version": 3
   },
   "file_extension": ".py",
   "mimetype": "text/x-python",
   "name": "python",
   "nbconvert_exporter": "python",
   "pygments_lexer": "ipython3",
   "version": "3.9.13"
  }
 },
 "nbformat": 4,
 "nbformat_minor": 4
}
