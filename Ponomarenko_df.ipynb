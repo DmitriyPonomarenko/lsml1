{
 "cells": [
  {
   "cell_type": "code",
   "execution_count": 1,
   "id": "4a8babb3-d15a-4b3a-b0f5-f433c5e72530",
   "metadata": {
    "tags": []
   },
   "outputs": [
    {
     "name": "stderr",
     "output_type": "stream",
     "text": [
      "Setting default log level to \"WARN\".\n",
      "To adjust logging level use sc.setLogLevel(newLevel). For SparkR, use setLogLevel(newLevel).\n",
      "2023-10-10 19:59:33,561 WARN yarn.Client: Neither spark.yarn.jars nor spark.yarn.archive is set, falling back to uploading libraries under SPARK_HOME.\n"
     ]
    }
   ],
   "source": [
    "import findspark\n",
    "findspark.init()\n",
    "\n",
    "import pyspark\n",
    "sc = pyspark.SparkContext(appName=\"jupyter\")\n",
    "\n",
    "from pyspark.sql import SparkSession\n",
    "se = SparkSession(sc)"
   ]
  },
  {
   "cell_type": "code",
   "execution_count": 2,
   "id": "52012e2e-fb77-48b2-a3bb-16d088c4bc27",
   "metadata": {
    "tags": []
   },
   "outputs": [],
   "source": [
    "from pyspark.sql import functions as F"
   ]
  },
  {
   "cell_type": "code",
   "execution_count": 3,
   "id": "a23a86fc-6123-437f-87e5-5f1fe48a0d93",
   "metadata": {},
   "outputs": [
    {
     "name": "stdout",
     "output_type": "stream",
     "text": [
      "copyFromLocal: `clickstream.csv': File exists\n"
     ]
    }
   ],
   "source": [
    "! hadoop fs -copyFromLocal clickstream.csv"
   ]
  },
  {
   "cell_type": "code",
   "execution_count": 4,
   "id": "2c90ad77-c832-4aa4-8a83-6a50e4bd4904",
   "metadata": {
    "tags": []
   },
   "outputs": [
    {
     "name": "stderr",
     "output_type": "stream",
     "text": [
      "                                                                                \r"
     ]
    },
    {
     "name": "stdout",
     "output_type": "stream",
     "text": [
      "+-------+----------+------------+----------+----------+\n",
      "|user_id|session_id|  event_type|event_page| timestamp|\n",
      "+-------+----------+------------+----------+----------+\n",
      "|    562|       507|        page|      main|1695584127|\n",
      "|    562|       507|       event|      main|1695584134|\n",
      "|    562|       507|       event|      main|1695584144|\n",
      "|    562|       507|       event|      main|1695584147|\n",
      "|    562|       507|wNaxLlerrorU|      main|1695584154|\n",
      "+-------+----------+------------+----------+----------+\n",
      "only showing top 5 rows\n",
      "\n"
     ]
    }
   ],
   "source": [
    "# read csv\n",
    "\n",
    "csv_df = se.read.options(header=True, delimiter=\"\\t\", inferSchema=True).csv(\"clickstream.csv\")\n",
    "csv_df.show(5)"
   ]
  },
  {
   "cell_type": "code",
   "execution_count": 5,
   "id": "4488492a-f009-498b-91c7-6e42b2b8008c",
   "metadata": {
    "tags": []
   },
   "outputs": [
    {
     "name": "stdout",
     "output_type": "stream",
     "text": [
      "+-------+----------+----------+----------+----------+\n",
      "|user_id|session_id|event_type|event_page| timestamp|\n",
      "+-------+----------+----------+----------+----------+\n",
      "|    562|       507|      page|      main|1695584127|\n",
      "|    562|       507|      page|    rabota|1695584166|\n",
      "|    562|       507|      page|      main|1695584194|\n",
      "|    562|       507|      page|     bonus|1695584221|\n",
      "|    562|       507|      page|    online|1695584222|\n",
      "+-------+----------+----------+----------+----------+\n",
      "only showing top 5 rows\n",
      "\n"
     ]
    }
   ],
   "source": [
    "# remove events\n",
    "\n",
    "clean_df = csv_df.filter(csv_df[\"event_type\"] == \"page\")\n",
    "clean_df.show(5)"
   ]
  },
  {
   "cell_type": "code",
   "execution_count": 6,
   "id": "aab3d166-86d4-4782-9931-c31b9e0a67e3",
   "metadata": {
    "tags": []
   },
   "outputs": [
    {
     "name": "stderr",
     "output_type": "stream",
     "text": [
      "[Stage 4:===================================================>       (7 + 1) / 8]\r"
     ]
    },
    {
     "name": "stdout",
     "output_type": "stream",
     "text": [
      "+-------+----------+-------------------+\n",
      "|user_id|session_id|firsterrortimestamp|\n",
      "+-------+----------+-------------------+\n",
      "|   3513|        68|         1695623875|\n",
      "|   4332|       766|         1695633583|\n",
      "|   4757|       611|         1695653221|\n",
      "|   2009|       827|         1695747863|\n",
      "|   1731|       193|         1695798006|\n",
      "|   3663|       287|         1695846314|\n",
      "|   3836|       329|         1696020745|\n",
      "|   4568|       350|         1696050732|\n",
      "|   4816|       126|         1696119282|\n",
      "|    957|       179|         1696199592|\n",
      "|   4327|       423|         1696258181|\n",
      "|   1093|       721|         1695711604|\n",
      "|   3425|        60|         1695910385|\n",
      "|   1657|       675|         1695913699|\n",
      "|   1985|        91|         1695980984|\n",
      "|   4007|       423|         1695986102|\n",
      "|   3817|       652|         1695999710|\n",
      "|   2821|       888|         1696151396|\n",
      "|    114|       354|         1695680693|\n",
      "|   2633|       287|         1695754663|\n",
      "|   2979|       852|         1695768939|\n",
      "|   3156|       112|         1695851194|\n",
      "|   1267|       879|         1695856768|\n",
      "|    993|       275|         1696036762|\n",
      "|   3116|       368|         1696057536|\n",
      "|   3417|       618|         1696107978|\n",
      "|   1037|       263|         1695631032|\n",
      "|   2687|       558|         1695638397|\n",
      "|   2826|       519|         1695852562|\n",
      "|   1518|       983|         1695896054|\n",
      "+-------+----------+-------------------+\n",
      "only showing top 30 rows\n",
      "\n"
     ]
    },
    {
     "name": "stderr",
     "output_type": "stream",
     "text": [
      "                                                                                \r"
     ]
    }
   ],
   "source": [
    "# time of first error for each session\n",
    "\n",
    "error_df = (csv_df.filter(csv_df[\"event_type\"].contains(\"error\"))\n",
    "    .groupBy([\"user_id\", \"session_id\"])\n",
    "    .agg(F.min(\"timestamp\").alias(\"firsterrortimestamp\")))\n",
    "error_df.show(30)"
   ]
  },
  {
   "cell_type": "code",
   "execution_count": 7,
   "id": "3e269374-e8fd-44d7-ab03-ac2e04dbe4ee",
   "metadata": {
    "tags": []
   },
   "outputs": [
    {
     "name": "stderr",
     "output_type": "stream",
     "text": [
      "                                                                                \r"
     ]
    },
    {
     "name": "stdout",
     "output_type": "stream",
     "text": [
      "+-------+----------+----------+----------+----------+-------------------+\n",
      "|user_id|session_id|event_type|event_page| timestamp|firsterrortimestamp|\n",
      "+-------+----------+----------+----------+----------+-------------------+\n",
      "|   1889|       140|      page|      main|1695614937|               null|\n",
      "|   1889|       140|      page|  internet|1695614956|               null|\n",
      "|   1889|       140|      page|   archive|1695614980|               null|\n",
      "|   1889|       140|      page|      main|1695615032|               null|\n",
      "|   3513|        68|      page|      main|1695619122|         1695623875|\n",
      "|   3513|        68|      page|   tariffs|1695619197|         1695623875|\n",
      "|   3513|        68|      page|     bonus|1695619627|         1695623875|\n",
      "|   3513|        68|      page|      main|1695622918|         1695623875|\n",
      "|   3513|        68|      page|   tariffs|1695623309|         1695623875|\n",
      "|   3513|        68|      page|   archive|1695623808|         1695623875|\n",
      "|   4332|       766|      page|      main|1695632805|         1695633583|\n",
      "|   4332|       766|      page|  internet|1695632897|         1695633583|\n",
      "|   4332|       766|      page|   tariffs|1695632987|         1695633583|\n",
      "|   4332|       766|      page|  internet|1695633081|         1695633583|\n",
      "|   4332|       766|      page|      main|1695633206|         1695633583|\n",
      "|   4332|       766|      page|    rabota|1695633533|         1695633583|\n",
      "|   4757|       611|      page|      main|1695649814|         1695653221|\n",
      "|   4757|       611|      page|   archive|1695650389|         1695653221|\n",
      "|   4757|       611|      page|   tariffs|1695651640|         1695653221|\n",
      "|   4757|       611|      page|    rabota|1695651675|         1695653221|\n",
      "|   4757|       611|      page|    online|1695652887|         1695653221|\n",
      "|   4757|       611|      page|     bonus|1695652965|         1695653221|\n",
      "|   4757|       611|      page|    online|1695653189|         1695653221|\n",
      "|   4913|        23|      page|      main|1695656777|               null|\n",
      "|   4913|        23|      page|  internet|1695657119|               null|\n",
      "|   4913|        23|      page|   archive|1695657283|               null|\n",
      "|   4913|        23|      page|     bonus|1695657580|               null|\n",
      "|   4913|        23|      page|   archive|1695658339|               null|\n",
      "|   4913|        23|      page|  internet|1695658856|               null|\n",
      "|   4913|        23|      page|   tariffs|1695659546|               null|\n",
      "+-------+----------+----------+----------+----------+-------------------+\n",
      "only showing top 30 rows\n",
      "\n"
     ]
    }
   ],
   "source": [
    "# page clipping after first error\n",
    "\n",
    "joined_df = clean_df.join(error_df, on=[\"user_id\", \"session_id\"], how=\"left\")\n",
    "faultless_df = joined_df.filter(joined_df[\"firsterrortimestamp\"].isNull() | (joined_df[\"firsterrortimestamp\"] > joined_df[\"timestamp\"]))\n",
    "faultless_df.show(30)"
   ]
  },
  {
   "cell_type": "code",
   "execution_count": 8,
   "id": "36c0fa70-940e-4094-a1a4-e5a0f1dd79cb",
   "metadata": {
    "tags": []
   },
   "outputs": [
    {
     "name": "stderr",
     "output_type": "stream",
     "text": [
      "                                                                                \r"
     ]
    },
    {
     "name": "stdout",
     "output_type": "stream",
     "text": [
      "+-------+----------+--------------------+\n",
      "|user_id|session_id|               route|\n",
      "+-------+----------+--------------------+\n",
      "|      0|       874|  main-rabota-online|\n",
      "|      0|       898|main-news-tariffs...|\n",
      "|      0|       901|main-internet-bon...|\n",
      "|      1|       954|          main-bonus|\n",
      "|      1|       979|main-rabota-archi...|\n",
      "+-------+----------+--------------------+\n",
      "only showing top 5 rows\n",
      "\n"
     ]
    }
   ],
   "source": [
    "# create routes\n",
    "\n",
    "route_df = (faultless_df\n",
    "    .groupBy([\"user_id\", \"session_id\"])\n",
    "    .agg(F.expr(\"concat_ws('-', sort_array(collect_list(struct(timestamp, event_page))).event_page) as route\")))\n",
    "route_df.show(5)"
   ]
  },
  {
   "cell_type": "code",
   "execution_count": 9,
   "id": "472ce1f6-fb62-4773-ac65-bd0c1dad7fed",
   "metadata": {
    "tags": []
   },
   "outputs": [],
   "source": [
    "def remove_duplicates(s: str) -> str:\n",
    "    '''Removes consecutive repetitions of the same page from the path, leaving only one\n",
    "    \n",
    "    Example:\n",
    "    \n",
    "    Transforms: 'main-main-rabota-online'\n",
    "    Returns: 'main-rabota-online'\n",
    "    '''\n",
    "    pages = str(s).split('-')\n",
    "    filtered_pages = []\n",
    "    for page in pages:\n",
    "        if not filtered_pages or page != filtered_pages[-1]:\n",
    "            filtered_pages.append(page)\n",
    "    return '-'.join(filtered_pages)\n",
    "\n",
    "remover = F.udf(remove_duplicates)"
   ]
  },
  {
   "cell_type": "code",
   "execution_count": 10,
   "id": "740f19d2-cdbf-497a-8a59-466e6e0b9585",
   "metadata": {
    "tags": []
   },
   "outputs": [
    {
     "name": "stderr",
     "output_type": "stream",
     "text": [
      "[Stage 24:>                                                         (0 + 1) / 1]\r"
     ]
    },
    {
     "name": "stdout",
     "output_type": "stream",
     "text": [
      "+-------+----------+--------------------+\n",
      "|user_id|session_id|               route|\n",
      "+-------+----------+--------------------+\n",
      "|      0|       874|  main-rabota-online|\n",
      "|      0|       898|main-news-tariffs...|\n",
      "|      0|       901|main-internet-bon...|\n",
      "|      1|       954|          main-bonus|\n",
      "|      1|       979|main-rabota-archi...|\n",
      "+-------+----------+--------------------+\n",
      "only showing top 5 rows\n",
      "\n"
     ]
    },
    {
     "name": "stderr",
     "output_type": "stream",
     "text": [
      "                                                                                \r"
     ]
    }
   ],
   "source": [
    "good_routes_df = route_df.select('user_id', 'session_id', remover('route').alias(\"route\"))\n",
    "good_routes_df.show(5)"
   ]
  },
  {
   "cell_type": "code",
   "execution_count": 11,
   "id": "45c919bb-7494-4616-8b00-52b4d8698bcd",
   "metadata": {
    "tags": []
   },
   "outputs": [
    {
     "name": "stderr",
     "output_type": "stream",
     "text": [
      "[Stage 30:==================================>                       (3 + 2) / 5]\r"
     ]
    },
    {
     "name": "stdout",
     "output_type": "stream",
     "text": [
      "+--------------------+---+\n",
      "|               route|cnt|\n",
      "+--------------------+---+\n",
      "|main-archive-inte...| 21|\n",
      "|main-archive-vkla...|  1|\n",
      "|main-internet-bon...|  8|\n",
      "|main-online-tarif...|  1|\n",
      "|main-archive-bonu...| 12|\n",
      "+--------------------+---+\n",
      "only showing top 5 rows\n",
      "\n"
     ]
    },
    {
     "name": "stderr",
     "output_type": "stream",
     "text": [
      "                                                                                \r"
     ]
    }
   ],
   "source": [
    "# count routes\n",
    "\n",
    "routes_count_df = good_routes_df.groupby('route').agg(F.count('route').alias(\"cnt\"))\n",
    "routes_count_df.show(5)"
   ]
  },
  {
   "cell_type": "code",
   "execution_count": 12,
   "id": "7cb38aaf-867c-42eb-a838-05e9b8c93ca7",
   "metadata": {
    "tags": []
   },
   "outputs": [
    {
     "name": "stderr",
     "output_type": "stream",
     "text": [
      "                                                                                \r"
     ]
    },
    {
     "name": "stdout",
     "output_type": "stream",
     "text": [
      "+--------------------+----+\n",
      "|               route| cnt|\n",
      "+--------------------+----+\n",
      "|                main|8184|\n",
      "|        main-archive|1112|\n",
      "|         main-rabota|1047|\n",
      "|       main-internet| 896|\n",
      "|          main-bonus| 870|\n",
      "|           main-news| 769|\n",
      "|        main-tariffs| 677|\n",
      "|         main-online| 587|\n",
      "|          main-vklad| 518|\n",
      "| main-rabota-archive| 170|\n",
      "| main-archive-rabota| 167|\n",
      "|  main-bonus-archive| 143|\n",
      "|   main-rabota-bonus| 138|\n",
      "|   main-bonus-rabota| 136|\n",
      "|    main-news-rabota| 135|\n",
      "|main-archive-inte...| 132|\n",
      "|    main-rabota-news| 130|\n",
      "|main-internet-rabota| 129|\n",
      "|   main-archive-news| 126|\n",
      "|main-rabota-internet| 124|\n",
      "|main-internet-arc...| 123|\n",
      "|  main-archive-bonus| 117|\n",
      "| main-internet-bonus| 115|\n",
      "|main-tariffs-inte...| 114|\n",
      "|   main-news-archive| 113|\n",
      "|  main-news-internet| 109|\n",
      "|main-archive-tariffs| 104|\n",
      "|  main-internet-news| 103|\n",
      "|main-tariffs-archive| 103|\n",
      "|    main-rabota-main|  94|\n",
      "+--------------------+----+\n",
      "\n"
     ]
    },
    {
     "name": "stderr",
     "output_type": "stream",
     "text": [
      "                                                                                \r"
     ]
    }
   ],
   "source": [
    "# top 30\n",
    "\n",
    "res = routes_count_df.sort('cnt', ascending=False).limit(30)\n",
    "res.show(30)"
   ]
  },
  {
   "cell_type": "code",
   "execution_count": 13,
   "id": "7b0d6b02-5608-48e6-b092-080e3e50b190",
   "metadata": {
    "tags": []
   },
   "outputs": [
    {
     "name": "stderr",
     "output_type": "stream",
     "text": [
      "                                                                                \r"
     ]
    }
   ],
   "source": [
    "# write result\n",
    "\n",
    "res.toPandas().to_csv('df_output.csv', header=False, index=False, sep='\\t')"
   ]
  },
  {
   "cell_type": "code",
   "execution_count": 14,
   "id": "04166a0a-9f93-49f1-8279-b6a92bf3f3f0",
   "metadata": {
    "tags": []
   },
   "outputs": [],
   "source": [
    "sc.stop()"
   ]
  }
 ],
 "metadata": {
  "kernelspec": {
   "display_name": "Python 3 (ipykernel)",
   "language": "python",
   "name": "python3"
  },
  "language_info": {
   "codemirror_mode": {
    "name": "ipython",
    "version": 3
   },
   "file_extension": ".py",
   "mimetype": "text/x-python",
   "name": "python",
   "nbconvert_exporter": "python",
   "pygments_lexer": "ipython3",
   "version": "3.9.13"
  }
 },
 "nbformat": 4,
 "nbformat_minor": 5
}
